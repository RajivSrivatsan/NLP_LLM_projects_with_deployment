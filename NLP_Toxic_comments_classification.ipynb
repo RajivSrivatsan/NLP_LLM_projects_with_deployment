{
  "nbformat": 4,
  "nbformat_minor": 0,
  "metadata": {
    "colab": {
      "provenance": []
    },
    "kernelspec": {
      "name": "python3",
      "display_name": "Python 3"
    },
    "language_info": {
      "name": "python"
    }
  },
  "cells": [
    {
      "cell_type": "code",
      "execution_count": 1,
      "metadata": {
        "id": "PgoS28nCBk9_"
      },
      "outputs": [],
      "source": [
        " import numpy as np\n",
        " import pandas as pd\n",
        "\n",
        " from sklearn.feature_extraction.text import CountVectorizer, TfidfVectorizer\n",
        " from sklearn import metrics\n",
        "\n",
        " import string\n",
        " import spacy\n",
        " np.random.seed(42)"
      ]
    },
    {
      "cell_type": "code",
      "source": [
        "data = pd.read_csv(\"/content/FinalBalancedDataset.csv\", error_bad_lines=False)"
      ],
      "metadata": {
        "colab": {
          "base_uri": "https://localhost:8080/"
        },
        "id": "QayF1ZrhZh_N",
        "outputId": "62864387-078c-4911-c091-352c0e5d42bf"
      },
      "execution_count": 8,
      "outputs": [
        {
          "output_type": "stream",
          "name": "stderr",
          "text": [
            "<ipython-input-8-e13838c69792>:1: FutureWarning: The error_bad_lines argument has been deprecated and will be removed in a future version. Use on_bad_lines in the future.\n",
            "\n",
            "\n",
            "  data = pd.read_csv(\"/content/FinalBalancedDataset.csv\", error_bad_lines=False)\n"
          ]
        }
      ]
    },
    {
      "cell_type": "code",
      "source": [
        "data.head()"
      ],
      "metadata": {
        "colab": {
          "base_uri": "https://localhost:8080/",
          "height": 206
        },
        "id": "GRXyL-BVb9L2",
        "outputId": "63f5699d-b875-4027-fde9-7b6123ec042e"
      },
      "execution_count": 9,
      "outputs": [
        {
          "output_type": "execute_result",
          "data": {
            "text/plain": [
              "   Unnamed: 0  Toxicity                                              tweet\n",
              "0           0         0   @user when a father is dysfunctional and is s...\n",
              "1           1         0  @user @user thanks for #lyft credit i can't us...\n",
              "2           2         0                                bihday your majesty\n",
              "3           3         0  #model   i love u take with u all the time in ...\n",
              "4           4         0             factsguide: society now    #motivation"
            ],
            "text/html": [
              "\n",
              "  <div id=\"df-8218ae92-b808-47a0-a3c7-6331f5853fec\" class=\"colab-df-container\">\n",
              "    <div>\n",
              "<style scoped>\n",
              "    .dataframe tbody tr th:only-of-type {\n",
              "        vertical-align: middle;\n",
              "    }\n",
              "\n",
              "    .dataframe tbody tr th {\n",
              "        vertical-align: top;\n",
              "    }\n",
              "\n",
              "    .dataframe thead th {\n",
              "        text-align: right;\n",
              "    }\n",
              "</style>\n",
              "<table border=\"1\" class=\"dataframe\">\n",
              "  <thead>\n",
              "    <tr style=\"text-align: right;\">\n",
              "      <th></th>\n",
              "      <th>Unnamed: 0</th>\n",
              "      <th>Toxicity</th>\n",
              "      <th>tweet</th>\n",
              "    </tr>\n",
              "  </thead>\n",
              "  <tbody>\n",
              "    <tr>\n",
              "      <th>0</th>\n",
              "      <td>0</td>\n",
              "      <td>0</td>\n",
              "      <td>@user when a father is dysfunctional and is s...</td>\n",
              "    </tr>\n",
              "    <tr>\n",
              "      <th>1</th>\n",
              "      <td>1</td>\n",
              "      <td>0</td>\n",
              "      <td>@user @user thanks for #lyft credit i can't us...</td>\n",
              "    </tr>\n",
              "    <tr>\n",
              "      <th>2</th>\n",
              "      <td>2</td>\n",
              "      <td>0</td>\n",
              "      <td>bihday your majesty</td>\n",
              "    </tr>\n",
              "    <tr>\n",
              "      <th>3</th>\n",
              "      <td>3</td>\n",
              "      <td>0</td>\n",
              "      <td>#model   i love u take with u all the time in ...</td>\n",
              "    </tr>\n",
              "    <tr>\n",
              "      <th>4</th>\n",
              "      <td>4</td>\n",
              "      <td>0</td>\n",
              "      <td>factsguide: society now    #motivation</td>\n",
              "    </tr>\n",
              "  </tbody>\n",
              "</table>\n",
              "</div>\n",
              "    <div class=\"colab-df-buttons\">\n",
              "\n",
              "  <div class=\"colab-df-container\">\n",
              "    <button class=\"colab-df-convert\" onclick=\"convertToInteractive('df-8218ae92-b808-47a0-a3c7-6331f5853fec')\"\n",
              "            title=\"Convert this dataframe to an interactive table.\"\n",
              "            style=\"display:none;\">\n",
              "\n",
              "  <svg xmlns=\"http://www.w3.org/2000/svg\" height=\"24px\" viewBox=\"0 -960 960 960\">\n",
              "    <path d=\"M120-120v-720h720v720H120Zm60-500h600v-160H180v160Zm220 220h160v-160H400v160Zm0 220h160v-160H400v160ZM180-400h160v-160H180v160Zm440 0h160v-160H620v160ZM180-180h160v-160H180v160Zm440 0h160v-160H620v160Z\"/>\n",
              "  </svg>\n",
              "    </button>\n",
              "\n",
              "  <style>\n",
              "    .colab-df-container {\n",
              "      display:flex;\n",
              "      gap: 12px;\n",
              "    }\n",
              "\n",
              "    .colab-df-convert {\n",
              "      background-color: #E8F0FE;\n",
              "      border: none;\n",
              "      border-radius: 50%;\n",
              "      cursor: pointer;\n",
              "      display: none;\n",
              "      fill: #1967D2;\n",
              "      height: 32px;\n",
              "      padding: 0 0 0 0;\n",
              "      width: 32px;\n",
              "    }\n",
              "\n",
              "    .colab-df-convert:hover {\n",
              "      background-color: #E2EBFA;\n",
              "      box-shadow: 0px 1px 2px rgba(60, 64, 67, 0.3), 0px 1px 3px 1px rgba(60, 64, 67, 0.15);\n",
              "      fill: #174EA6;\n",
              "    }\n",
              "\n",
              "    .colab-df-buttons div {\n",
              "      margin-bottom: 4px;\n",
              "    }\n",
              "\n",
              "    [theme=dark] .colab-df-convert {\n",
              "      background-color: #3B4455;\n",
              "      fill: #D2E3FC;\n",
              "    }\n",
              "\n",
              "    [theme=dark] .colab-df-convert:hover {\n",
              "      background-color: #434B5C;\n",
              "      box-shadow: 0px 1px 3px 1px rgba(0, 0, 0, 0.15);\n",
              "      filter: drop-shadow(0px 1px 2px rgba(0, 0, 0, 0.3));\n",
              "      fill: #FFFFFF;\n",
              "    }\n",
              "  </style>\n",
              "\n",
              "    <script>\n",
              "      const buttonEl =\n",
              "        document.querySelector('#df-8218ae92-b808-47a0-a3c7-6331f5853fec button.colab-df-convert');\n",
              "      buttonEl.style.display =\n",
              "        google.colab.kernel.accessAllowed ? 'block' : 'none';\n",
              "\n",
              "      async function convertToInteractive(key) {\n",
              "        const element = document.querySelector('#df-8218ae92-b808-47a0-a3c7-6331f5853fec');\n",
              "        const dataTable =\n",
              "          await google.colab.kernel.invokeFunction('convertToInteractive',\n",
              "                                                    [key], {});\n",
              "        if (!dataTable) return;\n",
              "\n",
              "        const docLinkHtml = 'Like what you see? Visit the ' +\n",
              "          '<a target=\"_blank\" href=https://colab.research.google.com/notebooks/data_table.ipynb>data table notebook</a>'\n",
              "          + ' to learn more about interactive tables.';\n",
              "        element.innerHTML = '';\n",
              "        dataTable['output_type'] = 'display_data';\n",
              "        await google.colab.output.renderOutput(dataTable, element);\n",
              "        const docLink = document.createElement('div');\n",
              "        docLink.innerHTML = docLinkHtml;\n",
              "        element.appendChild(docLink);\n",
              "      }\n",
              "    </script>\n",
              "  </div>\n",
              "\n",
              "\n",
              "<div id=\"df-72db678d-33de-4bdb-a02e-b126fe11345b\">\n",
              "  <button class=\"colab-df-quickchart\" onclick=\"quickchart('df-72db678d-33de-4bdb-a02e-b126fe11345b')\"\n",
              "            title=\"Suggest charts.\"\n",
              "            style=\"display:none;\">\n",
              "\n",
              "<svg xmlns=\"http://www.w3.org/2000/svg\" height=\"24px\"viewBox=\"0 0 24 24\"\n",
              "     width=\"24px\">\n",
              "    <g>\n",
              "        <path d=\"M19 3H5c-1.1 0-2 .9-2 2v14c0 1.1.9 2 2 2h14c1.1 0 2-.9 2-2V5c0-1.1-.9-2-2-2zM9 17H7v-7h2v7zm4 0h-2V7h2v10zm4 0h-2v-4h2v4z\"/>\n",
              "    </g>\n",
              "</svg>\n",
              "  </button>\n",
              "\n",
              "<style>\n",
              "  .colab-df-quickchart {\n",
              "      --bg-color: #E8F0FE;\n",
              "      --fill-color: #1967D2;\n",
              "      --hover-bg-color: #E2EBFA;\n",
              "      --hover-fill-color: #174EA6;\n",
              "      --disabled-fill-color: #AAA;\n",
              "      --disabled-bg-color: #DDD;\n",
              "  }\n",
              "\n",
              "  [theme=dark] .colab-df-quickchart {\n",
              "      --bg-color: #3B4455;\n",
              "      --fill-color: #D2E3FC;\n",
              "      --hover-bg-color: #434B5C;\n",
              "      --hover-fill-color: #FFFFFF;\n",
              "      --disabled-bg-color: #3B4455;\n",
              "      --disabled-fill-color: #666;\n",
              "  }\n",
              "\n",
              "  .colab-df-quickchart {\n",
              "    background-color: var(--bg-color);\n",
              "    border: none;\n",
              "    border-radius: 50%;\n",
              "    cursor: pointer;\n",
              "    display: none;\n",
              "    fill: var(--fill-color);\n",
              "    height: 32px;\n",
              "    padding: 0;\n",
              "    width: 32px;\n",
              "  }\n",
              "\n",
              "  .colab-df-quickchart:hover {\n",
              "    background-color: var(--hover-bg-color);\n",
              "    box-shadow: 0 1px 2px rgba(60, 64, 67, 0.3), 0 1px 3px 1px rgba(60, 64, 67, 0.15);\n",
              "    fill: var(--button-hover-fill-color);\n",
              "  }\n",
              "\n",
              "  .colab-df-quickchart-complete:disabled,\n",
              "  .colab-df-quickchart-complete:disabled:hover {\n",
              "    background-color: var(--disabled-bg-color);\n",
              "    fill: var(--disabled-fill-color);\n",
              "    box-shadow: none;\n",
              "  }\n",
              "\n",
              "  .colab-df-spinner {\n",
              "    border: 2px solid var(--fill-color);\n",
              "    border-color: transparent;\n",
              "    border-bottom-color: var(--fill-color);\n",
              "    animation:\n",
              "      spin 1s steps(1) infinite;\n",
              "  }\n",
              "\n",
              "  @keyframes spin {\n",
              "    0% {\n",
              "      border-color: transparent;\n",
              "      border-bottom-color: var(--fill-color);\n",
              "      border-left-color: var(--fill-color);\n",
              "    }\n",
              "    20% {\n",
              "      border-color: transparent;\n",
              "      border-left-color: var(--fill-color);\n",
              "      border-top-color: var(--fill-color);\n",
              "    }\n",
              "    30% {\n",
              "      border-color: transparent;\n",
              "      border-left-color: var(--fill-color);\n",
              "      border-top-color: var(--fill-color);\n",
              "      border-right-color: var(--fill-color);\n",
              "    }\n",
              "    40% {\n",
              "      border-color: transparent;\n",
              "      border-right-color: var(--fill-color);\n",
              "      border-top-color: var(--fill-color);\n",
              "    }\n",
              "    60% {\n",
              "      border-color: transparent;\n",
              "      border-right-color: var(--fill-color);\n",
              "    }\n",
              "    80% {\n",
              "      border-color: transparent;\n",
              "      border-right-color: var(--fill-color);\n",
              "      border-bottom-color: var(--fill-color);\n",
              "    }\n",
              "    90% {\n",
              "      border-color: transparent;\n",
              "      border-bottom-color: var(--fill-color);\n",
              "    }\n",
              "  }\n",
              "</style>\n",
              "\n",
              "  <script>\n",
              "    async function quickchart(key) {\n",
              "      const quickchartButtonEl =\n",
              "        document.querySelector('#' + key + ' button');\n",
              "      quickchartButtonEl.disabled = true;  // To prevent multiple clicks.\n",
              "      quickchartButtonEl.classList.add('colab-df-spinner');\n",
              "      try {\n",
              "        const charts = await google.colab.kernel.invokeFunction(\n",
              "            'suggestCharts', [key], {});\n",
              "      } catch (error) {\n",
              "        console.error('Error during call to suggestCharts:', error);\n",
              "      }\n",
              "      quickchartButtonEl.classList.remove('colab-df-spinner');\n",
              "      quickchartButtonEl.classList.add('colab-df-quickchart-complete');\n",
              "    }\n",
              "    (() => {\n",
              "      let quickchartButtonEl =\n",
              "        document.querySelector('#df-72db678d-33de-4bdb-a02e-b126fe11345b button');\n",
              "      quickchartButtonEl.style.display =\n",
              "        google.colab.kernel.accessAllowed ? 'block' : 'none';\n",
              "    })();\n",
              "  </script>\n",
              "</div>\n",
              "    </div>\n",
              "  </div>\n"
            ]
          },
          "metadata": {},
          "execution_count": 9
        }
      ]
    },
    {
      "cell_type": "code",
      "source": [
        "data.shape"
      ],
      "metadata": {
        "colab": {
          "base_uri": "https://localhost:8080/"
        },
        "id": "Tnwow6d4kHfA",
        "outputId": "27f2784a-e469-47c6-b36e-721341bb3cd8"
      },
      "execution_count": 32,
      "outputs": [
        {
          "output_type": "execute_result",
          "data": {
            "text/plain": [
              "(56745, 3)"
            ]
          },
          "metadata": {},
          "execution_count": 32
        }
      ]
    },
    {
      "cell_type": "code",
      "source": [
        "nlp = spacy.load('en_core_web_sm')\n",
        "stop_words = nlp.Defaults.stop_words\n",
        "\n",
        "print(stop_words)"
      ],
      "metadata": {
        "colab": {
          "base_uri": "https://localhost:8080/"
        },
        "id": "Nrdss8dXcBDz",
        "outputId": "7c9de7fb-303f-4f20-cf40-49f2e5631060"
      },
      "execution_count": 10,
      "outputs": [
        {
          "output_type": "stream",
          "name": "stdout",
          "text": [
            "{'used', 'had', \"'m\", 'thru', 'fifty', 'where', 'whatever', 'these', 'also', 'whenever', 'my', 'he', 'something', 'this', 'latter', 'so', 'perhaps', 'of', 'into', 'over', 'thereafter', 'about', 'put', 'give', 'that', 'others', 'me', 'due', 'except', 'thence', 'several', \"'d\", 'formerly', 'our', 'off', 'among', 'n’t', 'behind', 'amongst', '‘ll', 'hundred', 'all', '’s', 'besides', 'various', 'please', 'such', 'nevertheless', 'his', 'made', 'either', 'anyway', 'then', 'elsewhere', 'really', 'ca', 'a', 'rather', 'within', 'although', 'few', 'before', 'must', 'nowhere', 'each', 'anyhow', 'will', 'seemed', 'herein', 'been', 'ten', 'full', 'than', 'beyond', 'less', 'down', 'much', 'as', 'along', 'whole', 'name', 'himself', 'what', 'keep', 'nothing', 'ours', 'were', 'hence', 'sometime', 'and', 'together', 'whether', \"'ll\", 'you', 'with', 'everyone', 'from', 'almost', 'forty', 'might', 'alone', \"'s\", 'thereupon', 'amount', 'became', 'there', 'whose', 'hereupon', 'same', 'thus', 'eight', 'often', 'one', 'back', 'indeed', '‘m', 'here', 'top', 'twelve', 'myself', 'your', 'mostly', 'itself', 'sixty', 'another', 'by', 'which', 'therein', 'show', 'otherwise', 'those', 'nobody', 'yourself', 'becoming', 'however', 'become', 'though', '’ll', 'seems', 'never', 'some', 'cannot', 'any', 'empty', 'them', 're', 'yourselves', 'sometimes', 'whoever', 'when', 'someone', 'him', 'or', 'wherein', 'they', 'how', 'she', 'on', 'until', \"'re\", 'further', 'out', '‘d', 'around', 'whereby', 'we', 'call', 'the', 'hereby', '‘ve', 'via', 'see', 'afterwards', 'above', 'eleven', 'enough', 'five', 'again', 'hereafter', 'therefore', 'whereafter', 'i', 'throughout', 'themselves', 'up', 'did', 'very', 'after', 'last', 'part', '‘re', 'below', 'because', 'move', 'two', 'next', 'could', 'using', 'at', 'too', 'whom', \"n't\", 'n‘t', 'everywhere', 'while', 'since', 'seeming', 'mine', 'noone', 'take', 'quite', 'be', 'unless', 'is', 'still', 'bottom', 'both', 'only', 'now', 'latterly', 'meanwhile', 'through', 'already', '’ve', 'upon', 'are', 'say', 'her', 'everything', 'front', 'across', \"'ve\", 'fifteen', 'make', 'beforehand', 'should', 'may', 'once', 'onto', 'being', 'well', 'most', 'who', 'anywhere', 'becomes', 'have', 'am', 'other', 'go', 'many', 'their', 'whereupon', 'third', 'toward', 'first', 'yours', 'for', 'why', 'anything', 'no', 'but', 'three', 'wherever', 'under', 'done', 'regarding', 'to', 'serious', 'has', 'more', 'four', 'nine', 'against', 'whither', 'least', '’re', 'else', 'nor', '‘s', '’m', 'herself', 'do', 'every', 'neither', 'would', 'six', 'seem', 'none', 'thereby', 'does', 'whence', 'was', 'just', 'ever', 'side', 'always', 'yet', 'somewhere', 'in', 'beside', 'it', 'without', 'between', 'can', 'during', 'own', 'moreover', 'ourselves', 'namely', 'doing', 'whereas', 'former', 'twenty', 'us', 'if', 'even', 'towards', 'an', 'get', '’d', 'somehow', 'anyone', 'per', 'its', 'not', 'hers'}\n"
          ]
        }
      ]
    },
    {
      "cell_type": "code",
      "source": [
        "punctuations = string.punctuation\n",
        "print(set(punctuations))"
      ],
      "metadata": {
        "colab": {
          "base_uri": "https://localhost:8080/"
        },
        "id": "5lXNti3zdXBC",
        "outputId": "5bfb6bd5-e2fe-474e-adc5-245b822ff851"
      },
      "execution_count": 13,
      "outputs": [
        {
          "output_type": "stream",
          "name": "stdout",
          "text": [
            "{'/', '>', '@', '}', '+', ';', '~', '^', '&', \"'\", '<', '-', ':', '#', '\"', ')', '.', '=', ']', '\\\\', '%', '?', '(', '[', '_', '|', '`', '{', '!', ',', '$', '*'}\n"
          ]
        }
      ]
    },
    {
      "cell_type": "code",
      "source": [
        "# Creating our tokenizer function\n",
        "\n",
        "def spacy_tokenizer(sentence):\n",
        "  # creating our token object, which is used to create documents with linguistic annotations\n",
        "  doc = nlp(sentence)\n",
        "\n",
        "  # Lemmatizing\n",
        "  mytokens = [word.lemma_.lower().strip() for word in doc ]\n",
        "\n",
        "  mytokens = [word for word in mytokens if word not in stop_words and word not in punctuations]\n",
        "  return mytokens\n"
      ],
      "metadata": {
        "id": "OhkF8tE4dg5w"
      },
      "execution_count": 19,
      "outputs": []
    },
    {
      "cell_type": "code",
      "source": [
        "sentence = 'I am eating apple ?'\n",
        "spacy_tokenizer(sentence)"
      ],
      "metadata": {
        "colab": {
          "base_uri": "https://localhost:8080/"
        },
        "id": "zAmdpsgbeb16",
        "outputId": "ea34ba1e-2427-4537-e69c-b918192f126b"
      },
      "execution_count": 20,
      "outputs": [
        {
          "output_type": "execute_result",
          "data": {
            "text/plain": [
              "['eat', 'apple']"
            ]
          },
          "metadata": {},
          "execution_count": 20
        }
      ]
    },
    {
      "cell_type": "code",
      "source": [
        "countVector = CountVectorizer(tokenizer = spacy_tokenizer)\n",
        "tfidf_vector = TfidfVectorizer(tokenizer = spacy_tokenizer)\n"
      ],
      "metadata": {
        "id": "awhOwIsEel8i"
      },
      "execution_count": 21,
      "outputs": []
    },
    {
      "cell_type": "code",
      "source": [
        "countVector.fit_transform(['I am eating apple', 'I am playing cricket']).toarray()"
      ],
      "metadata": {
        "colab": {
          "base_uri": "https://localhost:8080/"
        },
        "id": "qpjcA1uNgFLW",
        "outputId": "a29f29ce-d5dc-4a02-97b2-d1c9776f02ad"
      },
      "execution_count": 22,
      "outputs": [
        {
          "output_type": "stream",
          "name": "stderr",
          "text": [
            "/usr/local/lib/python3.10/dist-packages/sklearn/feature_extraction/text.py:528: UserWarning: The parameter 'token_pattern' will not be used since 'tokenizer' is not None'\n",
            "  warnings.warn(\n"
          ]
        },
        {
          "output_type": "execute_result",
          "data": {
            "text/plain": [
              "array([[1, 0, 1, 0],\n",
              "       [0, 1, 0, 1]])"
            ]
          },
          "metadata": {},
          "execution_count": 22
        }
      ]
    },
    {
      "cell_type": "code",
      "source": [
        "countVector.get_feature_names_out()"
      ],
      "metadata": {
        "colab": {
          "base_uri": "https://localhost:8080/"
        },
        "id": "JwbMm1iwgUza",
        "outputId": "20bc73c5-1fad-40e4-e75e-29b28910734d"
      },
      "execution_count": 23,
      "outputs": [
        {
          "output_type": "execute_result",
          "data": {
            "text/plain": [
              "array(['apple', 'cricket', 'eat', 'play'], dtype=object)"
            ]
          },
          "metadata": {},
          "execution_count": 23
        }
      ]
    },
    {
      "cell_type": "code",
      "source": [
        "countVector.vocabulary_"
      ],
      "metadata": {
        "colab": {
          "base_uri": "https://localhost:8080/"
        },
        "id": "Qi2j9kaNhDf6",
        "outputId": "25427cbb-3da6-43f1-be98-f7b644054516"
      },
      "execution_count": 24,
      "outputs": [
        {
          "output_type": "execute_result",
          "data": {
            "text/plain": [
              "{'eat': 2, 'apple': 0, 'play': 3, 'cricket': 1}"
            ]
          },
          "metadata": {},
          "execution_count": 24
        }
      ]
    },
    {
      "cell_type": "code",
      "source": [
        "type(countVector)"
      ],
      "metadata": {
        "colab": {
          "base_uri": "https://localhost:8080/"
        },
        "id": "D2rgJK7chHU7",
        "outputId": "b216a73e-1c2e-4937-8858-628c8b92548b"
      },
      "execution_count": 25,
      "outputs": [
        {
          "output_type": "execute_result",
          "data": {
            "text/plain": [
              "sklearn.feature_extraction.text.CountVectorizer"
            ]
          },
          "metadata": {},
          "execution_count": 25
        }
      ]
    },
    {
      "cell_type": "code",
      "source": [
        "type(countVector.vocabulary_)"
      ],
      "metadata": {
        "colab": {
          "base_uri": "https://localhost:8080/"
        },
        "id": "Nue2g2hZhNCP",
        "outputId": "ff7c8410-77f0-4367-ca55-6d583af0a7f4"
      },
      "execution_count": 26,
      "outputs": [
        {
          "output_type": "execute_result",
          "data": {
            "text/plain": [
              "dict"
            ]
          },
          "metadata": {},
          "execution_count": 26
        }
      ]
    },
    {
      "cell_type": "code",
      "source": [
        "from sklearn.model_selection import train_test_split\n",
        "\n",
        "x = data['tweet']\n",
        "y = data['Toxicity']\n",
        "\n",
        "x_train, x_test, y_train, y_test = train_test_split(x, y, test_size = 0.2, stratify = y)\n"
      ],
      "metadata": {
        "id": "2KCDMOTehQz0"
      },
      "execution_count": 27,
      "outputs": []
    },
    {
      "cell_type": "code",
      "source": [
        "from sklearn.linear_model import LogisticRegression\n",
        "classifier = LogisticRegression()"
      ],
      "metadata": {
        "id": "k41kRBAqiEGe"
      },
      "execution_count": 29,
      "outputs": []
    },
    {
      "cell_type": "code",
      "source": [
        "x_train_vectors = countVector.fit_transform(x_train)\n"
      ],
      "metadata": {
        "colab": {
          "base_uri": "https://localhost:8080/"
        },
        "id": "b7ryfPTxiLO3",
        "outputId": "01388f37-31bc-4538-ec09-8b42d8c1dd86"
      },
      "execution_count": null,
      "outputs": [
        {
          "output_type": "stream",
          "name": "stderr",
          "text": [
            "/usr/local/lib/python3.10/dist-packages/sklearn/feature_extraction/text.py:528: UserWarning: The parameter 'token_pattern' will not be used since 'tokenizer' is not None'\n",
            "  warnings.warn(\n"
          ]
        }
      ]
    },
    {
      "cell_type": "code",
      "source": [
        "x_test_vectors = countVector.fit_transform(x_test)"
      ],
      "metadata": {
        "id": "B04jUsaqkNw9"
      },
      "execution_count": null,
      "outputs": []
    },
    {
      "cell_type": "code",
      "source": [
        "x_train_vectors.shape"
      ],
      "metadata": {
        "id": "SwjGtz9Oibdb"
      },
      "execution_count": null,
      "outputs": []
    },
    {
      "cell_type": "code",
      "source": [
        "x_test_vectors.shape"
      ],
      "metadata": {
        "id": "9UADW6SwixrS"
      },
      "execution_count": null,
      "outputs": []
    },
    {
      "cell_type": "code",
      "source": [
        "classifier.fit(x_train_vectors, y_train)"
      ],
      "metadata": {
        "id": "k8NIYjP_iznX"
      },
      "execution_count": null,
      "outputs": []
    },
    {
      "cell_type": "code",
      "source": [
        "predicted = classifier.predict(x_test_vectors)\n",
        "print('LR Accuracy: ', metrics.accuracy_score(y_test, predicted))\n",
        "print('LR precision:', metrics.precision_score(y_test, predicted))\n",
        "print('LR Recall: ', metrics.recall_score(y_test, predicted))"
      ],
      "metadata": {
        "id": "4lYnxv1Ai6NY"
      },
      "execution_count": null,
      "outputs": []
    },
    {
      "cell_type": "code",
      "source": [],
      "metadata": {
        "id": "14a2awRWj1At"
      },
      "execution_count": null,
      "outputs": []
    }
  ]
}